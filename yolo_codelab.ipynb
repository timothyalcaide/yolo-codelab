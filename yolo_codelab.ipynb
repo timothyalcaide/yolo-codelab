{
  "nbformat": 4,
  "nbformat_minor": 0,
  "metadata": {
    "colab": {
      "name": "yolo-codelab.ipynb",
      "provenance": [],
      "authorship_tag": "ABX9TyPlqwGC21z8qeZkuOHlIgcZ",
      "include_colab_link": true
    },
    "kernelspec": {
      "name": "python3",
      "display_name": "Python 3"
    },
    "accelerator": "GPU"
  },
  "cells": [
    {
      "cell_type": "markdown",
      "metadata": {
        "id": "view-in-github",
        "colab_type": "text"
      },
      "source": [
        "<a href=\"https://colab.research.google.com/github/timothyalcaide/yolo-codelab/blob/develop/yolo_codelab.ipynb\" target=\"_parent\"><img src=\"https://colab.research.google.com/assets/colab-badge.svg\" alt=\"Open In Colab\"/></a>"
      ]
    },
    {
      "cell_type": "markdown",
      "metadata": {
        "id": "SFL33k4l8ZDE",
        "colab_type": "text"
      },
      "source": [
        "# Link Codlab, Drive and Github"
      ]
    },
    {
      "cell_type": "markdown",
      "metadata": {
        "id": "FSA-_X2F9wHz",
        "colab_type": "text"
      },
      "source": [
        "[source tuto](https://towardsdatascience.com/google-drive-google-colab-github-dont-just-read-do-it-5554d5824228)"
      ]
    },
    {
      "cell_type": "code",
      "metadata": {
        "id": "RCOMmH1St8WT",
        "colab_type": "code",
        "colab": {}
      },
      "source": [
        "# Mount Google Drive\n",
        "%cd ..\n",
        "from google.colab import drive\n",
        "drive.mount('/content/gdrive')        "
      ],
      "execution_count": null,
      "outputs": []
    },
    {
      "cell_type": "code",
      "metadata": {
        "id": "HwRQ42iVw_Us",
        "colab_type": "code",
        "colab": {}
      },
      "source": [
        "# Clone github repository setup\n",
        "from os.path import join  \n",
        "\n",
        "ROOT = \"/content/gdrive\" \n",
        "MY_GOOGLE_DRIVE_PATH = 'My Drive/IA/' \n",
        "GIT_USERNAME = \"timothyalcaide\" \n",
        "GIT_TOKEN = \"7802dd553c96b9dfa6becd8141de1a14340e6629\"  \n",
        "GIT_REPOSITORY = \"yolo-codelab\" \n",
        "\n",
        "PROJECTS_PATH = join(ROOT, MY_GOOGLE_DRIVE_PATH)\n",
        "PROJECT_PATH = join(PROJECTS_PATH, GIT_REPOSITORY)\n",
        "\n",
        "# It's good to print out the value if you are not sure \n",
        "print(\"PROJECTS_PATH: \", PROJECTS_PATH)   \n",
        "print(\"PROJECT_PATH: \", PROJECT_PATH)   \n",
        "\n",
        "GIT_PATH = \"https://\" + GIT_TOKEN + \"@github.com/\" + GIT_USERNAME + \"/\" + GIT_REPOSITORY + \".git\"\n",
        "print(\"GIT_PATH: \", GIT_PATH)"
      ],
      "execution_count": null,
      "outputs": []
    },
    {
      "cell_type": "code",
      "metadata": {
        "id": "5JasN5Z64Uy1",
        "colab_type": "code",
        "colab": {}
      },
      "source": [
        "%cd \"{PROJECTS_PATH}\" \n",
        "!git clone \"{GIT_PATH}\""
      ],
      "execution_count": null,
      "outputs": []
    },
    {
      "cell_type": "code",
      "metadata": {
        "id": "UQ_tYWG23-jS",
        "colab_type": "code",
        "colab": {
          "base_uri": "https://localhost:8080/",
          "height": 51
        },
        "outputId": "faac0ca9-4000-46b3-bdac-6b0f92268a52"
      },
      "source": [
        "%cd {PROJECT_PATH}\n",
        "%pwd\n",
        "!git branch "
      ],
      "execution_count": 27,
      "outputs": [
        {
          "output_type": "stream",
          "text": [
            "/content/gdrive/My Drive/IA/yolo-codelab\n",
            "* \u001b[32mdevelop\u001b[m\n"
          ],
          "name": "stdout"
        }
      ]
    },
    {
      "cell_type": "code",
      "metadata": {
        "id": "c2M_rTXa82o4",
        "colab_type": "code",
        "colab": {}
      },
      "source": [
        "!git config --global user.email \"timothy.alcaide@gmail.com\"\n",
        "!git config --global user.name \"Timothy Alcaide\""
      ],
      "execution_count": 23,
      "outputs": []
    },
    {
      "cell_type": "code",
      "metadata": {
        "id": "b2lgcT3S9bs5",
        "colab_type": "code",
        "colab": {}
      },
      "source": [
        "!git add .\n",
        "!git commit -m \"add codelab, drive, github config\""
      ],
      "execution_count": null,
      "outputs": []
    },
    {
      "cell_type": "code",
      "metadata": {
        "id": "S0KAr6Uz9qOR",
        "colab_type": "code",
        "colab": {}
      },
      "source": [
        "!git push "
      ],
      "execution_count": null,
      "outputs": []
    }
  ]
}